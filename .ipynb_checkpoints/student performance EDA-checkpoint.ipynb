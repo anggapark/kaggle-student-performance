{
 "cells": [
  {
   "cell_type": "markdown",
   "id": "503d7837",
   "metadata": {},
   "source": [
    "# Students Performance in Exams"
   ]
  },
  {
   "cell_type": "markdown",
   "id": "22608e39",
   "metadata": {},
   "source": [
    "- Context</br>\n",
    "Marks secured by the students\n",
    "\n",
    "\n",
    "- Content</br>\n",
    "This data set consists of the marks secured by the students in various subjects.\n",
    "\n",
    "\n",
    "- Inspiration</br>\n",
    "To understand the influence of the parents background, test preparation etc on students performance"
   ]
  },
  {
   "cell_type": "markdown",
   "id": "0b0b1f35",
   "metadata": {},
   "source": [
    "## Import Dataset"
   ]
  },
  {
   "cell_type": "code",
   "execution_count": null,
   "id": "dea976eb",
   "metadata": {},
   "outputs": [],
   "source": [
    "import pandas as pd\n",
    "import numpy as np\n",
    "import matplotlib.pyplot as plt\n",
    "import seaborn as sns\n",
    "import os\n",
    "sns.set_style(\"whitegrid\")"
   ]
  },
  {
   "cell_type": "code",
   "execution_count": null,
   "id": "677f0bd8",
   "metadata": {},
   "outputs": [],
   "source": [
    "os.listdir(\"../Student Performance/dataset\")"
   ]
  },
  {
   "cell_type": "code",
   "execution_count": null,
   "id": "0f465c9c",
   "metadata": {},
   "outputs": [],
   "source": [
    "filename = \"../Student Performance/dataset/StudentsPerformance.csv\"\n",
    "student = pd.read_csv(filename)\n",
    "student.head()"
   ]
  },
  {
   "cell_type": "markdown",
   "id": "9b9ba7e2",
   "metadata": {},
   "source": [
    "The independent variables are follow:\n",
    "\n",
    "- gender : sex of students\n",
    "- race/ethnicity : ethnicity of students\n",
    "- parental level of education : parents' final education\n",
    "- lunch : having lunch before test (normal or abnormal)\n",
    "- test preparation course : complete or not complete before test"
   ]
  },
  {
   "cell_type": "markdown",
   "id": "76381ae4",
   "metadata": {},
   "source": [
    "## Understanding The Data"
   ]
  },
  {
   "cell_type": "code",
   "execution_count": null,
   "id": "7a4a1ab2",
   "metadata": {},
   "outputs": [],
   "source": [
    "# rename some feature to make it simpler\n",
    "student = student.rename(columns={\"race/ethnicity\":\"ethnicity\", \n",
    "                                  \"parental level of education\":\"parent_education\", \n",
    "                                  \"test preparation course\": \"preparation\", \n",
    "                                  \"math score\": \"math\", \n",
    "                                  \"reading score\": \"reading\", \n",
    "                                  \"writing score\": \"writing\"})\n",
    "student.head()"
   ]
  },
  {
   "cell_type": "code",
   "execution_count": null,
   "id": "29af78fc",
   "metadata": {},
   "outputs": [],
   "source": [
    "# show the size of data\n",
    "print(f\"Student data size: {student.shape}\")"
   ]
  },
  {
   "cell_type": "code",
   "execution_count": null,
   "id": "e3eeaae5",
   "metadata": {},
   "outputs": [],
   "source": [
    "student.info()"
   ]
  },
  {
   "cell_type": "code",
   "execution_count": null,
   "id": "5d81ef51",
   "metadata": {},
   "outputs": [],
   "source": [
    "# show student data's statistic descriptive\n",
    "student.describe().T"
   ]
  },
  {
   "cell_type": "markdown",
   "id": "d48ba57c",
   "metadata": {},
   "source": [
    "## Missing Value"
   ]
  },
  {
   "cell_type": "code",
   "execution_count": null,
   "id": "36695be6",
   "metadata": {},
   "outputs": [],
   "source": [
    "student.isnull().sum().any()"
   ]
  },
  {
   "cell_type": "markdown",
   "id": "796db9f0",
   "metadata": {},
   "source": [
    "There is no missing value, so we can go straight to EDA"
   ]
  },
  {
   "cell_type": "markdown",
   "id": "2ec73d4c",
   "metadata": {},
   "source": [
    "## EDA"
   ]
  },
  {
   "cell_type": "code",
   "execution_count": null,
   "id": "40c39838",
   "metadata": {},
   "outputs": [],
   "source": [
    "student.dtypes"
   ]
  },
  {
   "cell_type": "code",
   "execution_count": null,
   "id": "b5d84576",
   "metadata": {},
   "outputs": [],
   "source": [
    "# separate numeric and categoric data\n",
    "student_num = student.select_dtypes(include=\"int64\")\n",
    "student_col = student.select_dtypes(include=\"object\")"
   ]
  },
  {
   "cell_type": "code",
   "execution_count": null,
   "id": "967298e8",
   "metadata": {},
   "outputs": [],
   "source": [
    "student_num.head()"
   ]
  },
  {
   "cell_type": "code",
   "execution_count": null,
   "id": "000c8ae3",
   "metadata": {},
   "outputs": [],
   "source": [
    "student_col.head()"
   ]
  },
  {
   "cell_type": "markdown",
   "id": "3de1dd0d",
   "metadata": {},
   "source": [
    "There is no information to taken from ethnicity, so we can drop that feature"
   ]
  },
  {
   "cell_type": "code",
   "execution_count": null,
   "id": "0d706502",
   "metadata": {},
   "outputs": [],
   "source": [
    "# drop ethnicity\n",
    "student.drop(columns=\"ethnicity\", axis=1, inplace=True)"
   ]
  },
  {
   "cell_type": "markdown",
   "id": "60d78bc9",
   "metadata": {},
   "source": [
    "### Univariate"
   ]
  },
  {
   "cell_type": "code",
   "execution_count": null,
   "id": "b68aa9f2",
   "metadata": {},
   "outputs": [],
   "source": [
    "# numeric data distribution\n",
    "# for num in student_num.columns:\n",
    "#     sns.displot(data=student_num, x=num, kde=True)\n",
    "#     plt.title(f\"{num} distribution\")"
   ]
  },
  {
   "cell_type": "code",
   "execution_count": null,
   "id": "35077db5",
   "metadata": {},
   "outputs": [],
   "source": [
    "fig, ax = plt.subplots(len(student_num), figsize=(16,12))\n",
    "\n",
    "for i, num in enumerate(student_num):\n",
    "    sns.displot(student_num[num], ax=ax[i], kde=True)\n",
    "    ax[i].set_title(f'{student_num.columns} distribution', fontsize=10)\n",
    "    ax[i].set_xlabel(num, fontsize=8)\n",
    "    ax[i].set_ylabel('Count', fontsize=8)\n",
    "plt.show()"
   ]
  },
  {
   "cell_type": "code",
   "execution_count": null,
   "id": "bf111ca6",
   "metadata": {},
   "outputs": [],
   "source": []
  }
 ],
 "metadata": {
  "kernelspec": {
   "display_name": "Python 3 (ipykernel)",
   "language": "python",
   "name": "python3"
  },
  "language_info": {
   "codemirror_mode": {
    "name": "ipython",
    "version": 3
   },
   "file_extension": ".py",
   "mimetype": "text/x-python",
   "name": "python",
   "nbconvert_exporter": "python",
   "pygments_lexer": "ipython3",
   "version": "3.8.8"
  }
 },
 "nbformat": 4,
 "nbformat_minor": 5
}
